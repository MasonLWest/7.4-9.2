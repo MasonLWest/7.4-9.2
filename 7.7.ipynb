{
 "cells": [
  {
   "attachments": {},
   "cell_type": "markdown",
   "metadata": {},
   "source": [
    "7.7"
   ]
  },
  {
   "cell_type": "code",
   "execution_count": null,
   "metadata": {},
   "outputs": [],
   "source": [
    "\"\"\"\n",
    "File: invert.py\n",
    "Project 7.7\n",
    "Defines and tests a function for inverting images.\n",
    "\"\"\"\n",
    "\n",
    "from images import Image\n",
    "\n",
    "def invert(image):\n",
    "    \"\"\"Inverts an image to its negative.\"\"\"\n",
    "    for y in range(image.getHeight()):\n",
    "        for x in range(image.getWidth()):\n",
    "            (r, g, b) = image.getPixel(x, y)\n",
    "            r = 255 - r\n",
    "            g = 255 - g\n",
    "            b = 255 - b\n",
    "            image.setPixel(x, y, (r, g, b))\n",
    "\n",
    "def blackAndWhite(image):\n",
    "    \"\"\"Converts an image to black and white.\"\"\"\n",
    "    blackPixel = (0, 0, 0)\n",
    "    whitePixel = (255, 255, 255)\n",
    "    for y in range(image.getHeight()):\n",
    "        for x in range(image.getWidth()):\n",
    "            (r, g, b) = image.getPixel(x, y)\n",
    "            average = (r + g + b) // 3\n",
    "            if average < 128:\n",
    "                image.setPixel(x, y, blackPixel)\n",
    "            else:\n",
    "                image.setPixel(x, y, whitePixel)\n",
    "\n",
    "def grayscale(image):\n",
    "    \"\"\"Converts an image to grayscale.\"\"\"\n",
    "    for y in range(image.getHeight()):\n",
    "        for x in range(image.getWidth()):\n",
    "            (r, g, b) = image.getPixel(x, y)\n",
    "            r = int(r * 0.299)\n",
    "            g = int(g * 0.587)\n",
    "            b = int(b * 0.114)\n",
    "            lum = r + g + b\n",
    "            image.setPixel(x, y, (lum, lum, lum))\n",
    "\n",
    "def main():\n",
    "    filename = input(\"Enter the image file name: \")\n",
    "    image = Image(filename)\n",
    "    #Invert image\n",
    "    invert(image)\n",
    "    image.draw()\n",
    "    #Covert to greyscale, then invert\n",
    "    \"\"\"grayscale(image)\n",
    "    invert(image)\n",
    "    image.draw()\"\"\"\n",
    "    #Convert to black and white, then invert\n",
    "    \"\"\"blackAndWhite(image)\n",
    "    invert(image)\n",
    "    image.draw()\"\"\"\n",
    "\n",
    "if __name__ == \"__main__\":\n",
    "   main()\n"
   ]
  }
 ],
 "metadata": {
  "language_info": {
   "name": "python"
  },
  "orig_nbformat": 4
 },
 "nbformat": 4,
 "nbformat_minor": 2
}
