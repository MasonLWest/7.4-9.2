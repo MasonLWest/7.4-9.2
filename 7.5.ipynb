{
 "cells": [
  {
   "attachments": {},
   "cell_type": "markdown",
   "metadata": {},
   "source": [
    "7.5"
   ]
  },
  {
   "cell_type": "code",
   "execution_count": null,
   "metadata": {},
   "outputs": [],
   "source": [
    "\"\"\"\n",
    "File: posterize.py\n",
    "Project 7.5\n",
    "\n",
    "Defines and tests a function for posterizing images.\n",
    "\"\"\"\n",
    "\n",
    "from images import Image\n",
    "\n",
    "\n",
    "\"\"\" Write your code here \"\"\"\n",
    "\n",
    "def main():\n",
    "    filename = input(\"Enter the image file name: \")\n",
    "    red = int(input(\"Enter an integer [0..255] for red: \"))\n",
    "    green = int(input(\"Enter an integer [0..255] for green: \"))\n",
    "    blue = int(input(\"Enter an integer [0..255] for blue: \"))                    \n",
    "    image = Image(filename)\n",
    "    posterize(image, (red, green, blue))\n",
    "    image.draw()\n",
    "def posterize(image, target_color):\n",
    "    whitePixel = (255, 255, 255)\n",
    "    for y in range(image.getHeight()):\n",
    "        for x in range(image.getWidth()):\n",
    "            (r, g, b) = image.getPixel(x, y)\n",
    "            average = (r + g + b) // 3\n",
    "            if average > 128:\n",
    "                image.setPixel(x, y, whitePixel)\n",
    "            else:\n",
    "                image.setPixel(x, y, target_color)\n",
    "if __name__ == \"__main__\":\n",
    "   main()\n",
    "\n"
   ]
  }
 ],
 "metadata": {
  "language_info": {
   "name": "python"
  },
  "orig_nbformat": 4
 },
 "nbformat": 4,
 "nbformat_minor": 2
}
