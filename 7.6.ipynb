{
 "cells": [
  {
   "attachments": {},
   "cell_type": "markdown",
   "metadata": {},
   "source": [
    "7.6"
   ]
  },
  {
   "cell_type": "code",
   "execution_count": null,
   "metadata": {},
   "outputs": [],
   "source": [
    "\"\"\"\n",
    "File: graysacle.py\n",
    "Project 7.6\n",
    "Compares two different grayscale methods.\n",
    "\"\"\"\n",
    "\n",
    "from images import Image\n",
    "\n",
    "\n",
    "def grayscale1(image):\n",
    "    \"\"\"Converts an image to grayscale using the\n",
    "    psychologically accurate transformations.\"\"\"\n",
    "    for y in range(image.getHeight()):\n",
    "        for x in range(image.getWidth()):\n",
    "            (r, g, b) = image.getPixel(x, y)\n",
    "            r = int(r * 0.299)\n",
    "            g = int(g * 0.587)\n",
    "            b = int(b * 0.114)\n",
    "            lum = r + g + b\n",
    "            image.setPixel(x, y, (lum, lum, lum))\n",
    "\n",
    "def grayscale2(image):\n",
    "    \"\"\"Converts an image to grayscale using the crude average\n",
    "    of the r, g, and b\"\"\"\n",
    "    for y in range(image.getHeight()):\n",
    "        for x in range(image.getWidth()):\n",
    "            (r, g, b) = image.getPixel(x, y)\n",
    "            avg = int((r + g + b) / 3)\n",
    "            image.setPixel(x, y, (avg, avg, avg))\n",
    "\n",
    "def main():\n",
    "    filename = input(\"Enter the image file name: \")\n",
    "    image = Image(filename)\n",
    "    grayscale1(image)\n",
    "    image.save(\"psychologically_acc.png\")\n",
    "    image.draw()\n",
    "    \n",
    "    image2 = Image(filename)\n",
    "    grayscale2(image2)\n",
    "    image2.save(\"crude_avg.png\")\n",
    "    image2.draw()\n",
    "\n",
    "if __name__ == \"__main__\":\n",
    "    main()\n"
   ]
  }
 ],
 "metadata": {
  "language_info": {
   "name": "python"
  },
  "orig_nbformat": 4
 },
 "nbformat": 4,
 "nbformat_minor": 2
}
